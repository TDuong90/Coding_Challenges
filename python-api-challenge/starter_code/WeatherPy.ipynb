{
 "cells": [
  {
   "cell_type": "markdown",
   "metadata": {},
   "source": [
    "# WeatherPy\n",
    "----\n",
    "\n",
    "#### Note\n",
    "* Instructions have been included for each segment. You do not have to follow them exactly, but they are included to help you think through the steps."
   ]
  },
  {
   "cell_type": "code",
   "execution_count": 1,
   "metadata": {
    "scrolled": true
   },
   "outputs": [],
   "source": [
    "# Dependencies and Setup\n",
    "import matplotlib.pyplot as plt\n",
    "import pandas as pd\n",
    "import numpy as np\n",
    "import requests\n",
    "import time\n",
    "from scipy.stats import linregress\n",
    "import json\n",
    "\n",
    "# Import API key\n",
    "from api_keys import weather_api_key\n",
    "\n",
    "# Incorporated citipy to determine city based on latitude and longitude\n",
    "from citipy import citipy\n",
    "\n",
    "# Output File (CSV)\n",
    "output_data_file = \"../output_data/cities.csv\"\n",
    "\n",
    "# Range of latitudes and longitudes\n",
    "lat_range = (-90, 90)\n",
    "lng_range = (-180, 180)"
   ]
  },
  {
   "cell_type": "markdown",
   "metadata": {},
   "source": [
    "## Generate Cities List"
   ]
  },
  {
   "cell_type": "code",
   "execution_count": 2,
   "metadata": {
    "scrolled": false
   },
   "outputs": [
    {
     "data": {
      "text/plain": [
       "614"
      ]
     },
     "execution_count": 2,
     "metadata": {},
     "output_type": "execute_result"
    }
   ],
   "source": [
    "# List for holding lat_lngs and cities\n",
    "lat_lngs = []\n",
    "cities = []\n",
    "\n",
    "# Create a set of random lat and lng combinations\n",
    "lats = np.random.uniform(lat_range[0], lat_range[1], size=1500)\n",
    "lngs = np.random.uniform(lng_range[0], lng_range[1], size=1500)\n",
    "lat_lngs = zip(lats, lngs)\n",
    "\n",
    "# Identify nearest city for each lat, lng combination\n",
    "for lat_lng in lat_lngs:\n",
    "    city = citipy.nearest_city(lat_lng[0], lat_lng[1]).city_name\n",
    "    \n",
    "    city = city.replace(\" \", \"%20\")\n",
    "    # If the city is unique, then add it to a our cities list\n",
    "    if city not in cities:\n",
    "        cities.append(city)\n",
    "\n",
    "# Print the city count to confirm sufficient count\n",
    "len(cities)"
   ]
  },
  {
   "cell_type": "code",
   "execution_count": 3,
   "metadata": {},
   "outputs": [],
   "source": [
    "# cities_df = pd.read_csv(\"../output_data/cities.csv\")\n",
    "# cities_df = cities_df.set_index(\"City\")\n",
    "# cities_df"
   ]
  },
  {
   "cell_type": "markdown",
   "metadata": {},
   "source": [
    "### Perform API Calls\n",
    "* Perform a weather check on each city using a series of successive API calls.\n",
    "* Include a print log of each city as it'sbeing processed (with the city number and city name).\n"
   ]
  },
  {
   "cell_type": "code",
   "execution_count": 13,
   "metadata": {},
   "outputs": [
    {
     "data": {
      "text/plain": [
       "'http://api.openweathermap.org/data/2.5/weather?units=Imperial&APPID=0cb715c1de69ebce9d0d6fa65911be20'"
      ]
     },
     "execution_count": 13,
     "metadata": {},
     "output_type": "execute_result"
    }
   ],
   "source": [
    "url= \"http://api.openweathermap.org/data/2.5/weather?units=Imperial&APPID=\" + weather_api_key\n",
    "url"
   ]
  },
  {
   "cell_type": "code",
   "execution_count": 50,
   "metadata": {},
   "outputs": [
    {
     "name": "stdout",
     "output_type": "stream",
     "text": [
      "Starting data retrieval: \n",
      "-------------------------\n",
      "Processing Record 1 | Hobart\n",
      "Processing Record 2 | Sobolevo\n",
      "Processing Record 3 | Ancud\n",
      "Processing Record 4 | Manacapuru\n",
      "Processing Record 5 | Klaksvík\n",
      "Processing Record 6 | Vaini\n",
      "Processing Record 7 | Dunedin\n",
      "Processing Record 8 | East London\n",
      "Processing Record 9 | Weligama\n",
      "Processing Record 10 | Busselton\n",
      "Processing Record 11 | Souillac\n",
      "Processing Record 12 | Hamilton\n",
      "Processing Record 13 | Maningrida\n",
      "Processing Record 14 | Vilhena\n",
      "Processing Record 15 | Sungai Penuh\n",
      "Processing Record 16 | Icod de los Vinos\n",
      "Processing Record 17 | Bethel\n",
      "Processing Record 18 | Saldanha\n",
      "Processing Record 19 | Lorengau\n",
      "Processing Record 20 | ‘Āhuimanu\n",
      "Processing Record 21 | Half Moon Bay\n",
      "Processing Record 22 | Berea\n",
      "Processing Record 23 | Brownsville\n",
      "Processing Record 24 | Ilesha\n",
      "Processing Record 25 | Mar del Plata\n",
      "Processing Record 26 | Nishihara\n",
      "Processing Record 27 | Lodwar\n",
      "Processing Record 28 | Punta Arenas\n",
      "Processing Record 29 | Yeniseysk\n",
      "Processing Record 30 | Hofn\n",
      "City not found. Will attemp something else\n",
      "City not found. Will attemp something else\n",
      "Processing Record 31 | Puerto Escondido\n",
      "Processing Record 32 | Ushuaia\n",
      "Processing Record 33 | Rikitea\n",
      "Processing Record 34 | Albany\n",
      "Processing Record 35 | Khatanga\n",
      "Processing Record 36 | Lompoc\n",
      "Processing Record 37 | Khovd\n",
      "Processing Record 38 | New Norfolk\n",
      "Processing Record 39 | Iqaluit\n",
      "Processing Record 40 | Narsaq\n",
      "Processing Record 41 | Sorong\n",
      "City not found. Will attemp something else\n",
      "Processing Record 42 | Cape Town\n",
      "Processing Record 43 | Puerto Ayora\n",
      "Processing Record 44 | Santa\n",
      "Processing Record 45 | Port Blair\n",
      "Processing Record 46 | Bluff\n",
      "City not found. Will attemp something else\n",
      "Processing Record 47 | Aklavik\n",
      "Processing Record 48 | Dikson\n",
      "Processing Record 49 | Atuona\n",
      "Processing Record 50 | Arraial do Cabo\n",
      "City not found. Will attemp something else\n",
      "Processing Record 51 | Cidreira\n",
      "Processing Record 52 | Thompson\n",
      "Processing Record 53 | Arlit\n",
      "Processing Record 54 | Mahébourg\n",
      "Processing Record 55 | Mataura\n",
      "Processing Record 56 | Bud\n",
      "Processing Record 57 | Cantanhede\n",
      "Processing Record 58 | Pingliang\n",
      "Processing Record 59 | Hithadhoo\n",
      "Processing Record 60 | Kahului\n",
      "Processing Record 61 | Provideniya\n",
      "Processing Record 62 | George Town\n",
      "Processing Record 63 | Port Hedland\n",
      "Processing Record 64 | Bredasdorp\n",
      "Processing Record 65 | Morondava\n",
      "Processing Record 66 | Mount Gambier\n",
      "Processing Record 67 | Yellowknife\n",
      "Processing Record 68 | Quesnel\n",
      "Processing Record 69 | Adwa\n",
      "Processing Record 70 | Omsukchan\n",
      "Processing Record 71 | Awjilah\n",
      "Processing Record 72 | Barrow\n",
      "Processing Record 73 | Talnakh\n",
      "City not found. Will attemp something else\n",
      "Processing Record 74 | Mirador\n",
      "Processing Record 75 | Cap-aux-Meules\n",
      "Processing Record 76 | Chokurdakh\n",
      "Processing Record 77 | Fare\n",
      "Processing Record 78 | Sabha\n",
      "Processing Record 79 | Airai\n",
      "Processing Record 80 | Butaritari\n",
      "City not found. Will attemp something else\n",
      "Processing Record 81 | Hong Kong\n",
      "Processing Record 82 | Atambua\n",
      "City not found. Will attemp something else\n",
      "Processing Record 83 | Hirara\n",
      "Processing Record 84 | Mopipi\n",
      "Processing Record 85 | Nikolskoye\n",
      "Processing Record 86 | Bambous Virieux\n",
      "Processing Record 87 | Tasiilaq\n",
      "Processing Record 88 | Tiksi\n",
      "Processing Record 89 | Geraldton\n",
      "Processing Record 90 | Kyra\n",
      "Processing Record 91 | Nanortalik\n",
      "Processing Record 92 | Baraki Barak\n",
      "Processing Record 93 | Fairbanks\n",
      "Processing Record 94 | Arawa\n",
      "Processing Record 95 | Kavieng\n",
      "Processing Record 96 | Qaanaaq\n",
      "Processing Record 97 | Torbay\n",
      "Processing Record 98 | Port Alfred\n",
      "Processing Record 99 | Larap\n",
      "Processing Record 100 | Tuktoyaktuk\n",
      "Processing Record 101 | Lavrentiya\n",
      "Processing Record 102 | Clyde River\n",
      "Processing Record 103 | Magrath\n",
      "Processing Record 104 | Ambilobe\n",
      "Processing Record 105 | Berlevåg\n",
      "Processing Record 106 | Korla\n",
      "Processing Record 107 | Grand Gaube\n",
      "City not found. Will attemp something else\n",
      "Processing Record 108 | Kununurra\n",
      "Processing Record 109 | Cabo San Lucas\n",
      "Processing Record 110 | Vardø\n",
      "Processing Record 111 | Santarém\n",
      "Processing Record 112 | Izhma\n",
      "Processing Record 113 | Kitgum\n",
      "Processing Record 114 | São Filipe\n",
      "Processing Record 115 | Kargasok\n",
      "Processing Record 116 | Novo Oriente\n",
      "Processing Record 117 | Lata\n",
      "Processing Record 118 | Samarai\n",
      "Processing Record 119 | Taoudenni\n",
      "Processing Record 120 | Sitka\n",
      "Processing Record 121 | San Quintín\n",
      "Processing Record 122 | Caravelas\n",
      "Processing Record 123 | Río Gallegos\n",
      "Processing Record 124 | Boueni\n",
      "Processing Record 125 | Severo-Kuril'sk\n",
      "Processing Record 126 | Jamestown\n",
      "City not found. Will attemp something else\n",
      "Processing Record 127 | Castro\n",
      "Processing Record 128 | Salalah\n",
      "Processing Record 129 | Montluçon\n",
      "Processing Record 130 | Trelew\n",
      "Processing Record 131 | Saint-François\n",
      "Processing Record 132 | Marawi\n",
      "Processing Record 133 | Valparaíso\n",
      "Processing Record 134 | Margate\n",
      "Processing Record 135 | Kalemie\n",
      "Processing Record 136 | Wakkanai\n",
      "Processing Record 137 | Evensk\n",
      "Processing Record 138 | Grindavik\n",
      "Processing Record 139 | Port Augusta\n",
      "Processing Record 140 | Miyako\n",
      "Processing Record 141 | Mezhdurechensk\n",
      "Processing Record 142 | Vanimo\n",
      "Processing Record 143 | Kapaa\n",
      "Processing Record 144 | Merauke\n",
      "Processing Record 145 | San Vicente\n",
      "Processing Record 146 | Kavaratti\n",
      "Processing Record 147 | Erzin\n",
      "Processing Record 148 | Provincia di Savona\n",
      "Processing Record 149 | Yumen\n",
      "Processing Record 150 | Asău\n",
      "Processing Record 151 | Nome\n",
      "Processing Record 152 | Soubre\n",
      "Processing Record 153 | Emilio Carranza\n",
      "Processing Record 154 | Faya\n",
      "City not found. Will attemp something else\n",
      "Processing Record 155 | Zabaykal'sk\n",
      "Processing Record 156 | Dingcheng\n",
      "Processing Record 157 | Supaul\n",
      "Processing Record 158 | Kamaishi\n",
      "Processing Record 159 | Malpe\n",
      "Processing Record 160 | Husavik\n",
      "Processing Record 161 | Llangefni\n",
      "Processing Record 162 | Huarmey\n",
      "Processing Record 163 | Keflavik\n",
      "Processing Record 164 | College\n",
      "City not found. Will attemp something else\n",
      "Processing Record 165 | Igboho\n",
      "Processing Record 166 | Villa del Rosario\n",
      "Processing Record 167 | Hermanus\n",
      "Processing Record 168 | Cayenne\n",
      "Processing Record 169 | Shiyan\n",
      "Processing Record 170 | Saint George\n",
      "Processing Record 171 | Faanui\n",
      "Processing Record 172 | Pevek\n",
      "Processing Record 173 | Foso\n",
      "Processing Record 174 | Saint-Philippe\n",
      "Processing Record 175 | Girona\n",
      "Processing Record 176 | Vao\n",
      "Processing Record 177 | Netivot\n",
      "Processing Record 178 | Codrington\n",
      "Processing Record 179 | Kaitangata\n",
      "Processing Record 180 | Orangeburg\n",
      "Processing Record 181 | Diamantino\n",
      "City not found. Will attemp something else\n",
      "Processing Record 182 | Conde\n",
      "Processing Record 183 | Cherskiy\n",
      "Processing Record 184 | Kuji\n",
      "City not found. Will attemp something else\n",
      "City not found. Will attemp something else\n",
      "Processing Record 185 | Pisco\n",
      "Processing Record 186 | Muğla Province\n",
      "Processing Record 187 | Banská Štiavnica\n",
      "Processing Record 188 | Mwene-Ditu\n",
      "Processing Record 189 | Salinas\n",
      "Processing Record 190 | Leningradskiy\n",
      "City not found. Will attemp something else\n",
      "Processing Record 191 | Avarua\n",
      "Processing Record 192 | Port Elizabeth\n",
      "Processing Record 193 | Mitsamiouli\n",
      "Processing Record 194 | Ayan\n",
      "Processing Record 195 | Krasnosel'kup\n",
      "Processing Record 196 | Baykit\n",
      "City not found. Will attemp something else\n",
      "Processing Record 197 | Chystyakove\n",
      "Processing Record 198 | Gambēla\n",
      "Processing Record 199 | Baruun-Urt\n",
      "Processing Record 200 | Springbok\n",
      "Processing Record 201 | San Patricio\n",
      "Processing Record 202 | Coolum Beach\n",
      "Processing Record 203 | Moche\n",
      "Processing Record 204 | Jining\n",
      "Processing Record 205 | Pasni\n",
      "Processing Record 206 | Carnarvon\n",
      "Processing Record 207 | Hilo\n",
      "Processing Record 208 | Tessalit\n",
      "Processing Record 209 | Tommot\n",
      "Processing Record 210 | Tezu\n",
      "Processing Record 211 | Bangaon\n",
      "Processing Record 212 | Mazabuka\n",
      "Processing Record 213 | Ribeira Grande\n",
      "Processing Record 214 | Songjianghe\n",
      "Processing Record 215 | Santa Cruz Cabrália\n",
      "Processing Record 216 | Makakilo City\n",
      "Processing Record 217 | Vallenar\n",
      "Processing Record 218 | Dingle\n",
      "Processing Record 219 | Harboøre\n",
      "City not found. Will attemp something else\n",
      "City not found. Will attemp something else\n",
      "Processing Record 220 | Dubbo\n",
      "Processing Record 221 | Pangnirtung\n",
      "Processing Record 222 | Balakhninskiy\n",
      "Processing Record 223 | Norman Wells\n",
      "Processing Record 224 | Comodoro Rivadavia\n"
     ]
    },
    {
     "name": "stdout",
     "output_type": "stream",
     "text": [
      "Processing Record 225 | Miles City\n",
      "Processing Record 226 | Hobyo\n",
      "Processing Record 227 | Alekseyevka\n",
      "Processing Record 228 | Athabasca\n",
      "Processing Record 229 | Tuatapere\n",
      "Processing Record 230 | Necochea\n",
      "Processing Record 231 | Tupik\n",
      "Processing Record 232 | Glenwood Springs\n",
      "Processing Record 233 | Chumikan\n",
      "Processing Record 234 | Uruçuí\n",
      "Processing Record 235 | Cockburn Town\n",
      "Processing Record 236 | Pedernales\n",
      "Processing Record 237 | Kaseda-shirakame\n",
      "Processing Record 238 | San Miguel\n",
      "Processing Record 239 | Kattivākkam\n",
      "Processing Record 240 | Tra Vinh\n",
      "Processing Record 241 | Mwense\n",
      "Processing Record 242 | Laguna\n",
      "City not found. Will attemp something else\n",
      "Processing Record 243 | Alice Springs\n",
      "Processing Record 244 | Perm\n",
      "Processing Record 245 | Zhangye\n",
      "Processing Record 246 | Dudinka\n",
      "City not found. Will attemp something else\n",
      "Processing Record 247 | Ilulissat\n",
      "Processing Record 248 | Langham\n",
      "Processing Record 249 | Yar-Sale\n",
      "Processing Record 250 | Te Anau\n",
      "Processing Record 251 | Nuuk\n",
      "Processing Record 252 | Price\n",
      "Processing Record 253 | Jumla\n",
      "Processing Record 254 | La Ronge\n",
      "Processing Record 255 | Mormugao\n",
      "Processing Record 256 | Pacific Grove\n",
      "Processing Record 257 | Bahía Solano\n",
      "Processing Record 258 | Biak\n",
      "Processing Record 259 | Flinders\n",
      "Processing Record 260 | Mudanya\n",
      "Processing Record 261 | Houma\n",
      "Processing Record 262 | Karratha\n",
      "Processing Record 263 | Iberia\n",
      "Processing Record 264 | Vila Franca do Campo\n",
      "Processing Record 265 | Esperance\n",
      "Processing Record 266 | Bay Roberts\n",
      "Processing Record 267 | Hasaki\n",
      "Processing Record 268 | Bensonville\n",
      "Processing Record 269 | Natal\n",
      "Processing Record 270 | Matai\n",
      "City not found. Will attemp something else\n",
      "Processing Record 271 | Balrāmpur\n",
      "Processing Record 272 | Saskylakh\n",
      "City not found. Will attemp something else\n",
      "Processing Record 273 | Pandan\n",
      "Processing Record 274 | Coyhaique\n",
      "Processing Record 275 | Tilichiki\n",
      "Processing Record 276 | Shakawe\n",
      "Processing Record 277 | Zborište\n",
      "Processing Record 278 | Bengkulu\n",
      "City not found. Will attemp something else\n",
      "Processing Record 279 | Nanpiao\n",
      "Processing Record 280 | Njinikom\n",
      "Processing Record 281 | Lüderitz\n",
      "Processing Record 282 | Paka\n",
      "Processing Record 283 | Los Llanos de Aridane\n",
      "Processing Record 284 | Iwaki\n",
      "Processing Record 285 | Ponta do Sol\n",
      "Processing Record 286 | Chui\n",
      "Processing Record 287 | Fortuna\n",
      "Processing Record 288 | Arrondissement de Mende\n",
      "Processing Record 289 | Kruisfontein\n",
      "Processing Record 290 | Forsytheganj\n",
      "Processing Record 291 | Luján\n",
      "Processing Record 292 | Richards Bay\n",
      "Processing Record 293 | Kabin Buri\n",
      "Processing Record 294 | Isabela\n",
      "Processing Record 295 | Salta\n",
      "Processing Record 296 | Statesville\n",
      "Processing Record 297 | Kloulklubed\n",
      "Processing Record 298 | Pemba\n",
      "Processing Record 299 | Curup\n",
      "Processing Record 300 | Ust'-Omchug\n",
      "Processing Record 301 | Coromandel\n",
      "Processing Record 302 | Haines Junction\n",
      "Processing Record 303 | Aquiraz\n",
      "Processing Record 304 | Inírida\n",
      "Processing Record 305 | Bahawalpur\n",
      "Processing Record 306 | Olafsvik\n",
      "Processing Record 307 | Rocha\n",
      "Processing Record 308 | Kiama\n",
      "Processing Record 309 | Hailar\n",
      "Processing Record 310 | Saint Paul Harbor\n",
      "Processing Record 311 | Beloha\n",
      "City not found. Will attemp something else\n",
      "Processing Record 312 | Jaqué\n",
      "Processing Record 313 | Hashtrūd\n",
      "Processing Record 314 | Arbroath\n",
      "Processing Record 315 | Mnogovershinnyy\n",
      "Processing Record 316 | Hambantota\n",
      "Processing Record 317 | Formosa\n",
      "Processing Record 318 | Sabirabad\n",
      "Processing Record 319 | Najrān\n",
      "Processing Record 320 | Floriano\n",
      "Processing Record 321 | Nikolayevsk-on-Amur\n",
      "Processing Record 322 | Amahai\n",
      "Processing Record 323 | Roebourne\n",
      "Processing Record 324 | Lagoa\n",
      "Processing Record 325 | San Policarpo\n",
      "Processing Record 326 | Rawson\n",
      "City not found. Will attemp something else\n",
      "Processing Record 327 | Riyadh\n",
      "Processing Record 328 | Pinheiro\n",
      "Processing Record 329 | Port Lincoln\n",
      "Processing Record 330 | High Level\n",
      "Processing Record 331 | Washington\n",
      "Processing Record 332 | Sterling\n",
      "Processing Record 333 | Punta Gorda\n",
      "City not found. Will attemp something else\n",
      "Processing Record 334 | Kumul\n",
      "Processing Record 335 | Tomatlán\n",
      "Processing Record 336 | Teya\n",
      "Processing Record 337 | Burnie\n",
      "Processing Record 338 | Nicoya\n",
      "Processing Record 339 | Laas\n",
      "Processing Record 340 | Jasło\n",
      "Processing Record 341 | Sisimiut\n",
      "City not found. Will attemp something else\n",
      "Processing Record 342 | Puerto Cabezas\n",
      "Processing Record 343 | Nizhniy Kuranakh\n",
      "Processing Record 344 | Ketchikan\n",
      "Processing Record 345 | Sarangani\n",
      "Processing Record 346 | Itatiba\n",
      "Processing Record 347 | Colac\n",
      "Processing Record 348 | Shaunavon\n",
      "Processing Record 349 | Acarí\n",
      "City not found. Will attemp something else\n",
      "Processing Record 350 | Takaka\n",
      "Processing Record 351 | Derzhavīnsk\n",
      "Processing Record 352 | Fillmore\n",
      "Processing Record 353 | Kabwe\n",
      "Processing Record 354 | Phan Thiet\n",
      "Processing Record 355 | Tefé\n",
      "City not found. Will attemp something else\n",
      "Processing Record 356 | Luxeuil-les-Bains\n",
      "Processing Record 357 | Ahipara\n",
      "City not found. Will attemp something else\n",
      "Processing Record 358 | Kyzyl-Suu\n",
      "Processing Record 359 | Sosnovo-Ozerskoye\n",
      "Processing Record 360 | Juneau\n",
      "Processing Record 361 | Luleå\n",
      "Processing Record 362 | Bathsheba\n",
      "Processing Record 363 | Hualmay\n",
      "Processing Record 364 | Jurm\n",
      "Processing Record 365 | The Valley\n",
      "Processing Record 366 | Katsuura\n",
      "Processing Record 367 | Esim\n",
      "Processing Record 368 | Lebu\n",
      "City not found. Will attemp something else\n",
      "Processing Record 369 | Nova Olímpia\n",
      "Processing Record 370 | Ternate\n",
      "Processing Record 371 | Matam\n",
      "Processing Record 372 | Yovon\n",
      "Processing Record 373 | Young\n",
      "Processing Record 374 | Barranco\n",
      "Processing Record 375 | Gisborne\n",
      "Processing Record 376 | Sur\n",
      "Processing Record 377 | Broken Hill\n",
      "Processing Record 378 | Port Hardy\n",
      "Processing Record 379 | Upernavik\n",
      "Processing Record 380 | Meulaboh\n",
      "Processing Record 381 | Mount Isa\n",
      "Processing Record 382 | Broome\n",
      "Processing Record 383 | Arman'\n",
      "City not found. Will attemp something else\n",
      "Processing Record 384 | Sănduleşti\n",
      "Processing Record 385 | Temuco\n",
      "Processing Record 386 | Nakambala\n",
      "Processing Record 387 | Kuusamo\n",
      "Processing Record 388 | Luanda\n",
      "Processing Record 389 | Kerman\n",
      "Processing Record 390 | Bahía de Caráquez\n",
      "City not found. Will attemp something else\n",
      "Processing Record 391 | Marabá\n",
      "Processing Record 392 | Luwuk\n",
      "Processing Record 393 | Hūn\n",
      "Processing Record 394 | Conceição da Barra\n",
      "Processing Record 395 | Vysokogornyy\n",
      "Processing Record 396 | Filingué\n",
      "Processing Record 397 | Miraflores\n",
      "Processing Record 398 | Lazurne\n",
      "Processing Record 399 | Aksarka\n",
      "Processing Record 400 | Methóni\n",
      "Processing Record 401 | Chernyshevsk\n",
      "Processing Record 402 | Denpasar\n",
      "Processing Record 403 | Livramento\n",
      "Processing Record 404 | Lukang\n",
      "City not found. Will attemp something else\n",
      "Processing Record 405 | Leh\n",
      "Processing Record 406 | Redmond\n",
      "Processing Record 407 | Pāvugada\n",
      "Processing Record 408 | Havre-St-Pierre\n",
      "City not found. Will attemp something else\n",
      "Processing Record 409 | Campina Grande do Sul\n",
      "Processing Record 410 | Acaraú\n",
      "City not found. Will attemp something else\n",
      "Processing Record 411 | Eureka\n",
      "Processing Record 412 | Constitución\n",
      "Processing Record 413 | Malatya Province\n",
      "Processing Record 414 | Chernyshevskiy\n",
      "Processing Record 415 | Pandamatenga\n",
      "Processing Record 416 | Saint Anthony\n",
      "Processing Record 417 | Mato Verde\n",
      "Processing Record 418 | Kembé\n",
      "Processing Record 419 | Xudat\n",
      "Processing Record 420 | Dzerzhinsk\n",
      "Processing Record 421 | Maţāy\n",
      "Processing Record 422 | Penzance\n",
      "Processing Record 423 | Plettenberg Bay\n",
      "Processing Record 424 | Vestmannaeyjar\n",
      "Processing Record 425 | Ixtapa\n",
      "Processing Record 426 | Pauini\n",
      "Processing Record 427 | Port Hawkesbury\n",
      "Processing Record 428 | Umm Kaddadah\n",
      "Processing Record 429 | Qurayyat\n",
      "Processing Record 430 | Casablanca\n",
      "Processing Record 431 | Moree\n",
      "Processing Record 432 | Maniitsoq\n",
      "Processing Record 433 | Olinda\n",
      "Processing Record 434 | Ingham\n",
      "Processing Record 435 | Ribeira Brava\n",
      "Processing Record 436 | Ettaiyapuram\n",
      "Processing Record 437 | Belaya Gora\n",
      "Processing Record 438 | Sherlovaya Gora\n",
      "Processing Record 439 | Dalby\n",
      "Processing Record 440 | Buraidah\n",
      "Processing Record 441 | Perama\n",
      "Processing Record 442 | Rimouski\n",
      "City not found. Will attemp something else\n",
      "Processing Record 443 | Thayetmyo\n",
      "Processing Record 444 | Pavino\n",
      "Processing Record 445 | Kitimat\n"
     ]
    },
    {
     "name": "stdout",
     "output_type": "stream",
     "text": [
      "Processing Record 446 | Nantucket\n",
      "Processing Record 447 | Staryy Nadym\n",
      "Processing Record 448 | Westminster\n",
      "Processing Record 449 | Isangel\n",
      "Processing Record 450 | San Carlos\n",
      "Processing Record 451 | Berbera\n",
      "Processing Record 452 | Yanggu\n",
      "Processing Record 453 | Alghero\n",
      "Processing Record 454 | Bubanza Province\n",
      "Processing Record 455 | Murray Bridge\n",
      "Processing Record 456 | Andenes\n",
      "Processing Record 457 | Vanavara\n",
      "Processing Record 458 | Zaidpur\n",
      "City not found. Will attemp something else\n",
      "Processing Record 459 | Srednekolymsk\n",
      "Processing Record 460 | Padang\n",
      "Processing Record 461 | Concarneau\n",
      "Processing Record 462 | Paraíso\n",
      "Processing Record 463 | Port Macquarie\n",
      "Processing Record 464 | Chake Chake\n",
      "Processing Record 465 | Kemin\n",
      "Processing Record 466 | Narasannapeta\n",
      "Processing Record 467 | Orange Cove\n",
      "Processing Record 468 | Armidale\n",
      "Processing Record 469 | Kapuskasing\n",
      "Processing Record 470 | Seoul\n",
      "Processing Record 471 | Sargūr\n",
      "City not found. Will attemp something else\n",
      "Processing Record 472 | Benghazi\n",
      "Processing Record 473 | Ulladulla\n",
      "Processing Record 474 | Poum\n",
      "Processing Record 475 | Tocopilla\n",
      "Processing Record 476 | Rancho Palos Verdes\n",
      "Processing Record 477 | Grand Forks\n",
      "Processing Record 478 | Wau\n",
      "Processing Record 479 | Touros\n",
      "Processing Record 480 | Östersund\n",
      "Processing Record 481 | Puerto Salgar\n",
      "Processing Record 482 | Ceres\n",
      "Processing Record 483 | Panama City\n",
      "Processing Record 484 | Manchester\n",
      "Processing Record 485 | Morden\n",
      "Processing Record 486 | Esso\n",
      "Processing Record 487 | Bonfim\n",
      "Processing Record 488 | Goderich\n",
      "Processing Record 489 | Kaeo\n",
      "Processing Record 490 | Bentong\n",
      "Processing Record 491 | Mayumba\n",
      "Processing Record 492 | Portland\n",
      "Processing Record 493 | Longyearbyen\n",
      "Processing Record 494 | Piedade\n",
      "Processing Record 495 | Saint-Pierre\n",
      "Processing Record 496 | Quatre Cocos\n",
      "Processing Record 497 | Raja\n",
      "Processing Record 498 | Zacualpan\n",
      "Processing Record 499 | Santa Maria\n",
      "Processing Record 500 | Shirgaon\n",
      "Processing Record 501 | Bač\n",
      "Processing Record 502 | Gondanglegi\n",
      "Processing Record 503 | Chara\n",
      "City not found. Will attemp something else\n",
      "Processing Record 504 | Tura\n",
      "Processing Record 505 | Coxim\n",
      "Processing Record 506 | Gobabis\n",
      "Processing Record 507 | Yeppoon\n",
      "Processing Record 508 | Vitim\n",
      "Processing Record 509 | Poros\n",
      "Processing Record 510 | Sola\n",
      "Processing Record 511 | Brandon\n",
      "Processing Record 512 | Kautokeino\n",
      "Processing Record 513 | Beshpagir\n",
      "Processing Record 514 | Kaabong\n",
      "Processing Record 515 | Aksu\n",
      "Processing Record 516 | Khorixas\n",
      "Processing Record 517 | Riohacha\n",
      "Processing Record 518 | Karakol\n",
      "Processing Record 519 | Nemuro\n",
      "Processing Record 520 | Stornoway\n",
      "Processing Record 521 | Luganville\n",
      "Processing Record 522 | Inverell\n",
      "Processing Record 523 | Mossamedes\n",
      "Processing Record 524 | Rūdbār\n",
      "Processing Record 525 | Marabba\n",
      "Processing Record 526 | Hecun\n",
      "Processing Record 527 | Bandarbeyla\n",
      "Processing Record 528 | Kaohsiung City\n",
      "Processing Record 529 | Calabaca\n",
      "Processing Record 530 | Holsted\n",
      "Processing Record 531 | Anori\n",
      "Processing Record 532 | Hay River\n",
      "Processing Record 533 | Galesong\n",
      "Processing Record 534 | Minas\n",
      "Processing Record 535 | Viedma\n",
      "Processing Record 536 | Stann Creek Town\n",
      "Processing Record 537 | Havelock\n",
      "Processing Record 538 | Qingyuan\n",
      "Processing Record 539 | Sulangan\n",
      "Processing Record 540 | Ustrzyki Dolne\n",
      "Processing Record 541 | Palm Bay\n",
      "Processing Record 542 | Davila\n",
      "Processing Record 543 | Puro\n",
      "City not found. Will attemp something else\n",
      "Processing Record 544 | Ekangala\n",
      "Processing Record 545 | Son La\n",
      "Processing Record 546 | Saint-Louis\n",
      "Processing Record 547 | Pisa\n",
      "City not found. Will attemp something else\n",
      "Processing Record 548 | Beyneu\n",
      "Processing Record 549 | Mahajanga\n",
      "Processing Record 550 | Stromness\n",
      "Processing Record 551 | Chicama\n",
      "Processing Record 552 | Angoche\n",
      "Processing Record 553 | Skelmersdale\n",
      "Processing Record 554 | Mbandaka\n",
      "Processing Record 555 | San Cristobal\n",
      "Processing Record 556 | Tuy Hoa\n",
      "City not found. Will attemp something else\n",
      "Processing Record 557 | Fontanka\n",
      "Processing Record 558 | Ban Nahin\n",
      "Processing Record 559 | Ostrovnoy\n",
      "City not found. Will attemp something else\n",
      "Processing Record 560 | Kapoeta\n",
      "Processing Record 561 | Jaicós\n",
      "Processing Record 562 | San Francisco\n",
      "Processing Record 563 | Ajdabiya\n",
      "Processing Record 564 | Leopold\n",
      "Processing Record 565 | Lhokseumawe\n",
      "Processing Record 566 | Prabumulih\n",
      "Processing Record 567 | Bestöbe\n",
      "Processing Record 568 | Hokitika\n",
      "Processing Record 569 | Maridi\n"
     ]
    }
   ],
   "source": [
    "city_name = []\n",
    "cloudiness = []\n",
    "country = []\n",
    "date = []\n",
    "humidity = []\n",
    "lat = []\n",
    "lng = []\n",
    "max_temp = []\n",
    "wind_speed = []\n",
    "\n",
    "record = 1 \n",
    "\n",
    "print(f\"Starting data retrieval: \")\n",
    "print(f\"-------------------------\")\n",
    "\n",
    "for city in cities: \n",
    "    \n",
    "    try: \n",
    "        response = requests.get(f\"{url}&q={city}\").json() \n",
    "        city_name.append(response[\"name\"])\n",
    "        cloudiness.append(response[\"clouds\"][\"all\"])\n",
    "        country.append(response[\"sys\"][\"country\"])\n",
    "        date.append(response[\"dt\"])\n",
    "        humidity.append(response[\"main\"][\"humidity\"])\n",
    "        max_temp.append(response[\"main\"][\"temp_max\"])\n",
    "        lat.append(response[\"coord\"][\"lat\"])\n",
    "        lng.append(response[\"coord\"][\"lon\"])\n",
    "        wind_speed.append(response[\"wind\"][\"speed\"])\n",
    "        city_record = response[\"name\"]\n",
    "        print(f\"Processing Record {record} | {city_record}\")\n",
    "        \n",
    "        record = record + 1\n",
    "        \n",
    "    except: \n",
    "        print(\"City not found. Will attemp something else\")\n",
    "        \n",
    "    continue \n"
   ]
  },
  {
   "cell_type": "markdown",
   "metadata": {},
   "source": [
    "### Convert Raw Data to DataFrame\n",
    "* Export the city data into a .csv.\n",
    "* Display the DataFrame"
   ]
  },
  {
   "cell_type": "code",
   "execution_count": 21,
   "metadata": {},
   "outputs": [
    {
     "data": {
      "text/html": [
       "<div>\n",
       "<style scoped>\n",
       "    .dataframe tbody tr th:only-of-type {\n",
       "        vertical-align: middle;\n",
       "    }\n",
       "\n",
       "    .dataframe tbody tr th {\n",
       "        vertical-align: top;\n",
       "    }\n",
       "\n",
       "    .dataframe thead th {\n",
       "        text-align: right;\n",
       "    }\n",
       "</style>\n",
       "<table border=\"1\" class=\"dataframe\">\n",
       "  <thead>\n",
       "    <tr style=\"text-align: right;\">\n",
       "      <th></th>\n",
       "      <th>City</th>\n",
       "      <th>Cloudiness</th>\n",
       "      <th>Country</th>\n",
       "      <th>Lat</th>\n",
       "      <th>Lang</th>\n",
       "      <th>Date</th>\n",
       "      <th>Humidity</th>\n",
       "      <th>Max Temp</th>\n",
       "      <th>Wind Speed</th>\n",
       "    </tr>\n",
       "  </thead>\n",
       "  <tbody>\n",
       "    <tr>\n",
       "      <th>0</th>\n",
       "      <td>Hobart</td>\n",
       "      <td>40</td>\n",
       "      <td>AU</td>\n",
       "      <td>-42.88</td>\n",
       "      <td>147.33</td>\n",
       "      <td>1587361864</td>\n",
       "      <td>44</td>\n",
       "      <td>59.00</td>\n",
       "      <td>25.28</td>\n",
       "    </tr>\n",
       "    <tr>\n",
       "      <th>1</th>\n",
       "      <td>Sobolevo</td>\n",
       "      <td>20</td>\n",
       "      <td>RU</td>\n",
       "      <td>54.43</td>\n",
       "      <td>31.90</td>\n",
       "      <td>1587361865</td>\n",
       "      <td>72</td>\n",
       "      <td>37.72</td>\n",
       "      <td>11.56</td>\n",
       "    </tr>\n",
       "    <tr>\n",
       "      <th>2</th>\n",
       "      <td>Ancud</td>\n",
       "      <td>58</td>\n",
       "      <td>CL</td>\n",
       "      <td>-41.87</td>\n",
       "      <td>-73.82</td>\n",
       "      <td>1587361866</td>\n",
       "      <td>100</td>\n",
       "      <td>44.60</td>\n",
       "      <td>1.12</td>\n",
       "    </tr>\n",
       "    <tr>\n",
       "      <th>3</th>\n",
       "      <td>Manacapuru</td>\n",
       "      <td>20</td>\n",
       "      <td>BR</td>\n",
       "      <td>-3.30</td>\n",
       "      <td>-60.62</td>\n",
       "      <td>1587361866</td>\n",
       "      <td>94</td>\n",
       "      <td>77.00</td>\n",
       "      <td>2.21</td>\n",
       "    </tr>\n",
       "    <tr>\n",
       "      <th>4</th>\n",
       "      <td>Klaksvík</td>\n",
       "      <td>0</td>\n",
       "      <td>FO</td>\n",
       "      <td>62.23</td>\n",
       "      <td>-6.59</td>\n",
       "      <td>1587361866</td>\n",
       "      <td>93</td>\n",
       "      <td>42.80</td>\n",
       "      <td>12.75</td>\n",
       "    </tr>\n",
       "    <tr>\n",
       "      <th>...</th>\n",
       "      <td>...</td>\n",
       "      <td>...</td>\n",
       "      <td>...</td>\n",
       "      <td>...</td>\n",
       "      <td>...</td>\n",
       "      <td>...</td>\n",
       "      <td>...</td>\n",
       "      <td>...</td>\n",
       "      <td>...</td>\n",
       "    </tr>\n",
       "    <tr>\n",
       "      <th>564</th>\n",
       "      <td>Lhokseumawe</td>\n",
       "      <td>16</td>\n",
       "      <td>ID</td>\n",
       "      <td>5.18</td>\n",
       "      <td>97.15</td>\n",
       "      <td>1587361725</td>\n",
       "      <td>60</td>\n",
       "      <td>89.85</td>\n",
       "      <td>7.83</td>\n",
       "    </tr>\n",
       "    <tr>\n",
       "      <th>565</th>\n",
       "      <td>Prabumulih</td>\n",
       "      <td>77</td>\n",
       "      <td>ID</td>\n",
       "      <td>-3.45</td>\n",
       "      <td>104.25</td>\n",
       "      <td>1587362019</td>\n",
       "      <td>58</td>\n",
       "      <td>89.80</td>\n",
       "      <td>2.95</td>\n",
       "    </tr>\n",
       "    <tr>\n",
       "      <th>566</th>\n",
       "      <td>Bestöbe</td>\n",
       "      <td>88</td>\n",
       "      <td>KZ</td>\n",
       "      <td>52.50</td>\n",
       "      <td>73.10</td>\n",
       "      <td>1587362019</td>\n",
       "      <td>33</td>\n",
       "      <td>68.38</td>\n",
       "      <td>4.81</td>\n",
       "    </tr>\n",
       "    <tr>\n",
       "      <th>567</th>\n",
       "      <td>Hokitika</td>\n",
       "      <td>59</td>\n",
       "      <td>NZ</td>\n",
       "      <td>-42.72</td>\n",
       "      <td>170.97</td>\n",
       "      <td>1587362019</td>\n",
       "      <td>71</td>\n",
       "      <td>52.65</td>\n",
       "      <td>0.74</td>\n",
       "    </tr>\n",
       "    <tr>\n",
       "      <th>568</th>\n",
       "      <td>Maridi</td>\n",
       "      <td>100</td>\n",
       "      <td>SS</td>\n",
       "      <td>4.92</td>\n",
       "      <td>29.47</td>\n",
       "      <td>1587362020</td>\n",
       "      <td>60</td>\n",
       "      <td>72.50</td>\n",
       "      <td>8.68</td>\n",
       "    </tr>\n",
       "  </tbody>\n",
       "</table>\n",
       "<p>569 rows × 9 columns</p>\n",
       "</div>"
      ],
      "text/plain": [
       "            City  Cloudiness Country    Lat    Lang        Date  Humidity  \\\n",
       "0         Hobart          40      AU -42.88  147.33  1587361864        44   \n",
       "1       Sobolevo          20      RU  54.43   31.90  1587361865        72   \n",
       "2          Ancud          58      CL -41.87  -73.82  1587361866       100   \n",
       "3     Manacapuru          20      BR  -3.30  -60.62  1587361866        94   \n",
       "4       Klaksvík           0      FO  62.23   -6.59  1587361866        93   \n",
       "..           ...         ...     ...    ...     ...         ...       ...   \n",
       "564  Lhokseumawe          16      ID   5.18   97.15  1587361725        60   \n",
       "565   Prabumulih          77      ID  -3.45  104.25  1587362019        58   \n",
       "566      Bestöbe          88      KZ  52.50   73.10  1587362019        33   \n",
       "567     Hokitika          59      NZ -42.72  170.97  1587362019        71   \n",
       "568       Maridi         100      SS   4.92   29.47  1587362020        60   \n",
       "\n",
       "     Max Temp  Wind Speed  \n",
       "0       59.00       25.28  \n",
       "1       37.72       11.56  \n",
       "2       44.60        1.12  \n",
       "3       77.00        2.21  \n",
       "4       42.80       12.75  \n",
       "..        ...         ...  \n",
       "564     89.85        7.83  \n",
       "565     89.80        2.95  \n",
       "566     68.38        4.81  \n",
       "567     52.65        0.74  \n",
       "568     72.50        8.68  \n",
       "\n",
       "[569 rows x 9 columns]"
      ]
     },
     "execution_count": 21,
     "metadata": {},
     "output_type": "execute_result"
    }
   ],
   "source": [
    "weather = {\n",
    "    \"City\": city_name,\n",
    "    \"Cloudiness\":cloudiness,\n",
    "    \"Country\": country,\n",
    "    \"Lat\":lat,\n",
    "    \"Lang\": lng,\n",
    "    \"Date\":date,\n",
    "    \"Humidity\":humidity,\n",
    "    \"Max Temp\": max_temp,\n",
    "    \"Wind Speed\": wind_speed,\n",
    "}\n",
    "\n",
    "weather_df = pd.DataFrame(weather)\n",
    "\n",
    "weather_df.count()\n",
    "\n",
    "weather_df.to_csv('../output_data/weather_df.csv')\n",
    "\n",
    "weather_df"
   ]
  },
  {
   "cell_type": "markdown",
   "metadata": {},
   "source": [
    "## Plotting the Data\n",
    "* Use proper labeling of the plots using plot titles (including date of analysis) and axes labels.\n",
    "* Save the plotted figures as .pngs."
   ]
  },
  {
   "cell_type": "markdown",
   "metadata": {},
   "source": [
    "## Latitude vs. Temperature Plot"
   ]
  },
  {
   "cell_type": "code",
   "execution_count": 36,
   "metadata": {
    "scrolled": true
   },
   "outputs": [
    {
     "data": {
      "image/png": "[encoded data removed]",
      "text/plain": [
       "<Figure size 432x288 with 1 Axes>"
      ]
     },
     "metadata": {
      "needs_background": "light"
     },
     "output_type": "display_data"
    }
   ],
   "source": [
    "plt.scatter(weather_df[\"Lat\"],weather_df[\"Max Temp\"], marker=\"o\", c = \"blue\", s=30)\n",
    "\n",
    "plt.title(\"City Latitude vs. Max Temperature (4/19/20)\")\n",
    "plt.ylabel(\"Max. Temperature (F)\")\n",
    "plt.xlabel(\"Latitude\")\n",
    "plt.grid(True)\n",
    "\n",
    "plt.savefig(\"../output_data/lattitude_vs_temp.png\")\n",
    "plt.show()"
   ]
  },
  {
   "cell_type": "markdown",
   "metadata": {},
   "source": [
    "## Latitude vs. Humidity Plot"
   ]
  },
  {
   "cell_type": "code",
   "execution_count": 40,
   "metadata": {},
   "outputs": [
    {
     "data": {
      "image/png": "[encoded data removed]",
      "text/plain": [
       "<Figure size 432x288 with 1 Axes>"
      ]
     },
     "metadata": {
      "needs_background": "light"
     },
     "output_type": "display_data"
    }
   ],
   "source": [
    "plt.scatter(weather_df['Lat'], weather_df['Humidity'], marker=\"o\", c=\"blue\", )\n",
    "\n",
    "\n",
    "plt.grid()\n",
    "plt.title(f\"City Latitude vs. Humidity 4/19/20\")\n",
    "plt.xlabel(\"Latitude\")\n",
    "plt.ylabel(\"Humidity (%)\")\n",
    "plt.savefig(\"../output_data/lattitude_vs_Humidity.png\")\n",
    "plt.show()"
   ]
  },
  {
   "cell_type": "markdown",
   "metadata": {},
   "source": [
    "## Latitude vs. Cloudiness Plot"
   ]
  },
  {
   "cell_type": "code",
   "execution_count": 42,
   "metadata": {},
   "outputs": [
    {
     "data": {
      "image/png": "[encoded data removed]",
      "text/plain": [
       "<Figure size 432x288 with 1 Axes>"
      ]
     },
     "metadata": {
      "needs_background": "light"
     },
     "output_type": "display_data"
    }
   ],
   "source": [
    "plt.scatter(weather_df['Lat'],weather_df['Cloudiness'], marker=\"o\", c=\"blue\",s=30)\n",
    "\n",
    "plt.grid()\n",
    "plt.title(f\"City Latitude vs. Cloudiness 4/19/20\")\n",
    "plt.xlabel(\"Latitude\")\n",
    "plt.ylabel(\"Cloudiness (%)\")\n",
    "plt.savefig(\"../output_data/lattitude_vs_Cloudiness.png\")\n",
    "plt.show()"
   ]
  },
  {
   "cell_type": "markdown",
   "metadata": {},
   "source": [
    "## Latitude vs. Wind Speed Plot"
   ]
  },
  {
   "cell_type": "code",
   "execution_count": 43,
   "metadata": {
    "scrolled": true
   },
   "outputs": [
    {
     "data": {
      "image/png": "[encoded data removed]",
      "text/plain": [
       "<Figure size 432x288 with 1 Axes>"
      ]
     },
     "metadata": {
      "needs_background": "light"
     },
     "output_type": "display_data"
    }
   ],
   "source": [
    "plt.scatter(weather_df['Lat'],weather_df['Wind Speed'], marker=\"o\", c=\"blue\",s=30)\n",
    "\n",
    "plt.grid()\n",
    "plt.title(f\"City Latitude vs. Wind Speed 4/19/20\")\n",
    "plt.xlabel(\"Latitude\")\n",
    "plt.ylabel(\"Cloudiness (%)\")\n",
    "plt.savefig(\"../output_data/lattitude_vs_Windspeed.png\")\n",
    "plt.show()"
   ]
  },
  {
   "cell_type": "code",
   "execution_count": null,
   "metadata": {
    "scrolled": false
   },
   "outputs": [],
   "source": []
  },
  {
   "cell_type": "markdown",
   "metadata": {},
   "source": [
    "## Linear Regression"
   ]
  },
  {
   "cell_type": "code",
   "execution_count": 72,
   "metadata": {
    "scrolled": true
   },
   "outputs": [
    {
     "data": {
      "text/html": [
       "<div>\n",
       "<style scoped>\n",
       "    .dataframe tbody tr th:only-of-type {\n",
       "        vertical-align: middle;\n",
       "    }\n",
       "\n",
       "    .dataframe tbody tr th {\n",
       "        vertical-align: top;\n",
       "    }\n",
       "\n",
       "    .dataframe thead th {\n",
       "        text-align: right;\n",
       "    }\n",
       "</style>\n",
       "<table border=\"1\" class=\"dataframe\">\n",
       "  <thead>\n",
       "    <tr style=\"text-align: right;\">\n",
       "      <th></th>\n",
       "      <th>index</th>\n",
       "      <th>City</th>\n",
       "      <th>Cloudiness</th>\n",
       "      <th>Country</th>\n",
       "      <th>Lat</th>\n",
       "      <th>Lang</th>\n",
       "      <th>Date</th>\n",
       "      <th>Humidity</th>\n",
       "      <th>Max Temp</th>\n",
       "      <th>Wind Speed</th>\n",
       "    </tr>\n",
       "  </thead>\n",
       "  <tbody>\n",
       "    <tr>\n",
       "      <th>0</th>\n",
       "      <td>1</td>\n",
       "      <td>Sobolevo</td>\n",
       "      <td>20</td>\n",
       "      <td>RU</td>\n",
       "      <td>54.43</td>\n",
       "      <td>31.90</td>\n",
       "      <td>1587361865</td>\n",
       "      <td>72</td>\n",
       "      <td>37.72</td>\n",
       "      <td>11.56</td>\n",
       "    </tr>\n",
       "    <tr>\n",
       "      <th>1</th>\n",
       "      <td>4</td>\n",
       "      <td>Klaksvík</td>\n",
       "      <td>0</td>\n",
       "      <td>FO</td>\n",
       "      <td>62.23</td>\n",
       "      <td>-6.59</td>\n",
       "      <td>1587361866</td>\n",
       "      <td>93</td>\n",
       "      <td>42.80</td>\n",
       "      <td>12.75</td>\n",
       "    </tr>\n",
       "    <tr>\n",
       "      <th>2</th>\n",
       "      <td>8</td>\n",
       "      <td>Weligama</td>\n",
       "      <td>3</td>\n",
       "      <td>LK</td>\n",
       "      <td>5.97</td>\n",
       "      <td>80.42</td>\n",
       "      <td>1587361867</td>\n",
       "      <td>58</td>\n",
       "      <td>91.09</td>\n",
       "      <td>8.21</td>\n",
       "    </tr>\n",
       "    <tr>\n",
       "      <th>3</th>\n",
       "      <td>11</td>\n",
       "      <td>Hamilton</td>\n",
       "      <td>1</td>\n",
       "      <td>US</td>\n",
       "      <td>39.18</td>\n",
       "      <td>-84.53</td>\n",
       "      <td>1587361867</td>\n",
       "      <td>93</td>\n",
       "      <td>46.99</td>\n",
       "      <td>5.37</td>\n",
       "    </tr>\n",
       "    <tr>\n",
       "      <th>4</th>\n",
       "      <td>15</td>\n",
       "      <td>Icod de los Vinos</td>\n",
       "      <td>5</td>\n",
       "      <td>ES</td>\n",
       "      <td>28.37</td>\n",
       "      <td>-16.71</td>\n",
       "      <td>1587361868</td>\n",
       "      <td>74</td>\n",
       "      <td>66.00</td>\n",
       "      <td>7.00</td>\n",
       "    </tr>\n",
       "    <tr>\n",
       "      <th>...</th>\n",
       "      <td>...</td>\n",
       "      <td>...</td>\n",
       "      <td>...</td>\n",
       "      <td>...</td>\n",
       "      <td>...</td>\n",
       "      <td>...</td>\n",
       "      <td>...</td>\n",
       "      <td>...</td>\n",
       "      <td>...</td>\n",
       "      <td>...</td>\n",
       "    </tr>\n",
       "    <tr>\n",
       "      <th>374</th>\n",
       "      <td>561</td>\n",
       "      <td>San Francisco</td>\n",
       "      <td>75</td>\n",
       "      <td>US</td>\n",
       "      <td>37.77</td>\n",
       "      <td>-122.42</td>\n",
       "      <td>1587361989</td>\n",
       "      <td>66</td>\n",
       "      <td>55.99</td>\n",
       "      <td>8.05</td>\n",
       "    </tr>\n",
       "    <tr>\n",
       "      <th>375</th>\n",
       "      <td>562</td>\n",
       "      <td>Ajdabiya</td>\n",
       "      <td>100</td>\n",
       "      <td>LY</td>\n",
       "      <td>30.76</td>\n",
       "      <td>20.23</td>\n",
       "      <td>1587362018</td>\n",
       "      <td>32</td>\n",
       "      <td>71.11</td>\n",
       "      <td>15.70</td>\n",
       "    </tr>\n",
       "    <tr>\n",
       "      <th>376</th>\n",
       "      <td>564</td>\n",
       "      <td>Lhokseumawe</td>\n",
       "      <td>16</td>\n",
       "      <td>ID</td>\n",
       "      <td>5.18</td>\n",
       "      <td>97.15</td>\n",
       "      <td>1587361725</td>\n",
       "      <td>60</td>\n",
       "      <td>89.85</td>\n",
       "      <td>7.83</td>\n",
       "    </tr>\n",
       "    <tr>\n",
       "      <th>377</th>\n",
       "      <td>566</td>\n",
       "      <td>Bestöbe</td>\n",
       "      <td>88</td>\n",
       "      <td>KZ</td>\n",
       "      <td>52.50</td>\n",
       "      <td>73.10</td>\n",
       "      <td>1587362019</td>\n",
       "      <td>33</td>\n",
       "      <td>68.38</td>\n",
       "      <td>4.81</td>\n",
       "    </tr>\n",
       "    <tr>\n",
       "      <th>378</th>\n",
       "      <td>568</td>\n",
       "      <td>Maridi</td>\n",
       "      <td>100</td>\n",
       "      <td>SS</td>\n",
       "      <td>4.92</td>\n",
       "      <td>29.47</td>\n",
       "      <td>1587362020</td>\n",
       "      <td>60</td>\n",
       "      <td>72.50</td>\n",
       "      <td>8.68</td>\n",
       "    </tr>\n",
       "  </tbody>\n",
       "</table>\n",
       "<p>379 rows × 10 columns</p>\n",
       "</div>"
      ],
      "text/plain": [
       "     index               City  Cloudiness Country    Lat    Lang        Date  \\\n",
       "0        1           Sobolevo          20      RU  54.43   31.90  1587361865   \n",
       "1        4           Klaksvík           0      FO  62.23   -6.59  1587361866   \n",
       "2        8           Weligama           3      LK   5.97   80.42  1587361867   \n",
       "3       11           Hamilton           1      US  39.18  -84.53  1587361867   \n",
       "4       15  Icod de los Vinos           5      ES  28.37  -16.71  1587361868   \n",
       "..     ...                ...         ...     ...    ...     ...         ...   \n",
       "374    561      San Francisco          75      US  37.77 -122.42  1587361989   \n",
       "375    562           Ajdabiya         100      LY  30.76   20.23  1587362018   \n",
       "376    564        Lhokseumawe          16      ID   5.18   97.15  1587361725   \n",
       "377    566            Bestöbe          88      KZ  52.50   73.10  1587362019   \n",
       "378    568             Maridi         100      SS   4.92   29.47  1587362020   \n",
       "\n",
       "     Humidity  Max Temp  Wind Speed  \n",
       "0          72     37.72       11.56  \n",
       "1          93     42.80       12.75  \n",
       "2          58     91.09        8.21  \n",
       "3          93     46.99        5.37  \n",
       "4          74     66.00        7.00  \n",
       "..        ...       ...         ...  \n",
       "374        66     55.99        8.05  \n",
       "375        32     71.11       15.70  \n",
       "376        60     89.85        7.83  \n",
       "377        33     68.38        4.81  \n",
       "378        60     72.50        8.68  \n",
       "\n",
       "[379 rows x 10 columns]"
      ]
     },
     "execution_count": 72,
     "metadata": {},
     "output_type": "execute_result"
    }
   ],
   "source": [
    "# Create Northern and Southern Hemisphere DataFrames\n",
    "\n",
    "Northern = weather_df.loc[weather_df[\"Lat\"] >= 0.0]\n",
    "Northern.reset_index(inplace=True)\n",
    "\n",
    "Southern = weather_df.loc[weather_df[\"Lat\"] <-0.0]\n",
    "Southern.reset_index(inplace=True)\n",
    "\n",
    "Northern"
   ]
  },
  {
   "cell_type": "code",
   "execution_count": 92,
   "metadata": {},
   "outputs": [],
   "source": [
    "def plotRegression (x_values,y_values, x_dependence, y_dependence, position):\n",
    "    (slope, intercept, rvalue, pvalue, stderr) = linregress(x_values, y_values)\n",
    "    regress_values = x_values * slope + intercept\n",
    "    print(f\"R-squared value is: {rvalue}\")\n",
    "    line_eq = \"y = \" + str(round(slope,2))+ \"x + \" +str(round(intercept,2))\n",
    "    \n",
    "\n",
    "    plt.scatter(x_values, y_values)\n",
    "    plt.plot(x_values,regress_values, \"r-\")\n",
    "    plt.annotate(line_eq,position,fontsize=12,color=\"red\")\n",
    "    plt.xlabel(x_dependence)\n",
    "    plt.ylabel(y_dependence)\n",
    "    plt.show()"
   ]
  },
  {
   "cell_type": "markdown",
   "metadata": {},
   "source": [
    "####  Northern Hemisphere - Max Temp vs. Latitude Linear Regression"
   ]
  },
  {
   "cell_type": "code",
   "execution_count": 123,
   "metadata": {},
   "outputs": [
    {
     "name": "stdout",
     "output_type": "stream",
     "text": [
      "R-squared value is: -0.8756194437333851\n"
     ]
    },
    {
     "data": {
      "image/png": "[encoded data removed]",
      "text/plain": [
       "<Figure size 432x288 with 1 Axes>"
      ]
     },
     "metadata": {
      "needs_background": "light"
     },
     "output_type": "display_data"
    },
    {
     "data": {
      "text/plain": [
       "<Figure size 432x288 with 0 Axes>"
      ]
     },
     "metadata": {},
     "output_type": "display_data"
    }
   ],
   "source": [
    "x_dependence = \"Lat\"\n",
    "y_dependence = \"Max Temp\"\n",
    "position = (0,25)\n",
    "\n",
    "plotRegression(Northern[x_dependence],Northern[y_dependence],x_dependence, y_dependence,position)\n",
    "plt.savefig(\"../output_data/Northern_lattitude_vs_temp.png\")"
   ]
  },
  {
   "cell_type": "markdown",
   "metadata": {},
   "source": [
    "####  Southern Hemisphere - Max Temp vs. Latitude Linear Regression"
   ]
  },
  {
   "cell_type": "code",
   "execution_count": 124,
   "metadata": {},
   "outputs": [
    {
     "name": "stdout",
     "output_type": "stream",
     "text": [
      "R-squared value is: 0.7130070009081054\n"
     ]
    },
    {
     "data": {
      "image/png": "[encoded data removed]",
      "text/plain": [
       "<Figure size 432x288 with 1 Axes>"
      ]
     },
     "metadata": {
      "needs_background": "light"
     },
     "output_type": "display_data"
    },
    {
     "data": {
      "text/plain": [
       "<Figure size 432x288 with 0 Axes>"
      ]
     },
     "metadata": {},
     "output_type": "display_data"
    }
   ],
   "source": [
    "x_dependence = \"Lat\"\n",
    "y_dependence = \"Max Temp\"\n",
    "position = (-50,80)\n",
    "\n",
    "plotRegression(Southern[x_dependence],Southern[y_dependence],x_dependence,y_dependence,position)\n",
    "plt.savefig(\"../output_data/Southern_lattitude_vs_temp.png\")"
   ]
  },
  {
   "cell_type": "markdown",
   "metadata": {},
   "source": [
    "####  Northern Hemisphere - Humidity (%) vs. Latitude Linear Regression"
   ]
  },
  {
   "cell_type": "code",
   "execution_count": 125,
   "metadata": {},
   "outputs": [
    {
     "name": "stdout",
     "output_type": "stream",
     "text": [
      "R-squared value is: 0.2859470105260121\n"
     ]
    },
    {
     "data": {
      "image/png": "[encoded data removed]",
      "text/plain": [
       "<Figure size 432x288 with 1 Axes>"
      ]
     },
     "metadata": {
      "needs_background": "light"
     },
     "output_type": "display_data"
    },
    {
     "data": {
      "text/plain": [
       "<Figure size 432x288 with 0 Axes>"
      ]
     },
     "metadata": {},
     "output_type": "display_data"
    }
   ],
   "source": [
    "x_dependence = \"Lat\"\n",
    "y_dependence = \"Humidity\"\n",
    "position = (10,0)\n",
    "\n",
    "plotRegression(Northern[x_dependence],Northern[y_dependence],x_dependence,y_dependence,position)\n",
    "plt.savefig(\"../output_data/Northern_lattitude_vs_humidity.png\")"
   ]
  },
  {
   "cell_type": "markdown",
   "metadata": {},
   "source": [
    "####  Southern Hemisphere - Humidity (%) vs. Latitude Linear Regression"
   ]
  },
  {
   "cell_type": "code",
   "execution_count": 126,
   "metadata": {},
   "outputs": [
    {
     "name": "stdout",
     "output_type": "stream",
     "text": [
      "R-squared value is: 0.21521188789631984\n"
     ]
    },
    {
     "data": {
      "image/png": "[encoded data removed]",
      "text/plain": [
       "<Figure size 432x288 with 1 Axes>"
      ]
     },
     "metadata": {
      "needs_background": "light"
     },
     "output_type": "display_data"
    },
    {
     "data": {
      "text/plain": [
       "<Figure size 432x288 with 0 Axes>"
      ]
     },
     "metadata": {},
     "output_type": "display_data"
    }
   ],
   "source": [
    "x_dependence = \"Lat\"\n",
    "y_dependence = \"Humidity\"\n",
    "position = (-50,10)\n",
    "\n",
    "plotRegression(Southern[x_dependence],Southern[y_dependence],x_dependence,y_dependence,position)\n",
    "plt.savefig(\"../output_data/Southern_lattitude_vs_humidity.png\")"
   ]
  },
  {
   "cell_type": "markdown",
   "metadata": {},
   "source": [
    "#  Northern Hemisphere - Cloudiness (%) vs. Latitude Linear Regression"
   ]
  },
  {
   "cell_type": "code",
   "execution_count": 127,
   "metadata": {},
   "outputs": [
    {
     "name": "stdout",
     "output_type": "stream",
     "text": [
      "R-squared value is: 0.12544182880261776\n"
     ]
    },
    {
     "data": {
      "image/png": "[encoded data removed]",
      "text/plain": [
       "<Figure size 432x288 with 1 Axes>"
      ]
     },
     "metadata": {
      "needs_background": "light"
     },
     "output_type": "display_data"
    },
    {
     "data": {
      "text/plain": [
       "<Figure size 432x288 with 0 Axes>"
      ]
     },
     "metadata": {},
     "output_type": "display_data"
    }
   ],
   "source": [
    "x_dependence = \"Lat\"\n",
    "y_dependence = \"Cloudiness\"\n",
    "position = (10,50)\n",
    "\n",
    "plotRegression(Northern[x_dependence],Northern[y_dependence],x_dependence,y_dependence,position)\n",
    "plt.savefig(\"../output_data/Northern_lattitude_vs_cloudiness.png\")"
   ]
  },
  {
   "cell_type": "markdown",
   "metadata": {},
   "source": [
    "####  Southern Hemisphere - Cloudiness (%) vs. Latitude Linear Regression"
   ]
  },
  {
   "cell_type": "code",
   "execution_count": 128,
   "metadata": {},
   "outputs": [
    {
     "name": "stdout",
     "output_type": "stream",
     "text": [
      "R-squared value is: 0.7130070009081054\n"
     ]
    },
    {
     "data": {
      "image/png": "[encoded data removed]",
      "text/plain": [
       "<Figure size 432x288 with 1 Axes>"
      ]
     },
     "metadata": {
      "needs_background": "light"
     },
     "output_type": "display_data"
    },
    {
     "data": {
      "text/plain": [
       "<Figure size 432x288 with 0 Axes>"
      ]
     },
     "metadata": {},
     "output_type": "display_data"
    }
   ],
   "source": [
    "x_dependence = \"Lat\"\n",
    "y_dependence = \"Max Temp\"\n",
    "position = (-50,80)\n",
    "\n",
    "plotRegression(Southern[x_dependence],Southern[y_dependence],x_dependence,y_dependence,position)\n",
    "plt.savefig(\"../output_data/Southern_lattitude_vs_cloudiness.png\")"
   ]
  },
  {
   "cell_type": "markdown",
   "metadata": {},
   "source": [
    "####  Northern Hemisphere - Wind Speed (mph) vs. Latitude Linear Regression"
   ]
  },
  {
   "cell_type": "code",
   "execution_count": 129,
   "metadata": {},
   "outputs": [
    {
     "name": "stdout",
     "output_type": "stream",
     "text": [
      "R-squared value is: 0.25585038007706523\n"
     ]
    },
    {
     "data": {
      "image/png": "[encoded data removed]",
      "text/plain": [
       "<Figure size 432x288 with 1 Axes>"
      ]
     },
     "metadata": {
      "needs_background": "light"
     },
     "output_type": "display_data"
    },
    {
     "data": {
      "text/plain": [
       "<Figure size 432x288 with 0 Axes>"
      ]
     },
     "metadata": {},
     "output_type": "display_data"
    }
   ],
   "source": [
    "x_dependence = \"Lat\"\n",
    "y_dependence = \"Wind Speed\"\n",
    "position = (10,25)\n",
    "\n",
    "plotRegression(Northern[x_dependence],Northern[y_dependence],x_dependence,y_dependence,position)\n",
    "plt.savefig(\"../output_data/Northern_lattitude_vs_windspeed.png\")"
   ]
  },
  {
   "cell_type": "markdown",
   "metadata": {},
   "source": [
    "####  Southern Hemisphere - Wind Speed (mph) vs. Latitude Linear Regression"
   ]
  },
  {
   "cell_type": "code",
   "execution_count": 130,
   "metadata": {},
   "outputs": [
    {
     "name": "stdout",
     "output_type": "stream",
     "text": [
      "R-squared value is: -0.2997238587008675\n"
     ]
    },
    {
     "data": {
      "image/png": "[encoded data removed]",
      "text/plain": [
       "<Figure size 432x288 with 1 Axes>"
      ]
     },
     "metadata": {
      "needs_background": "light"
     },
     "output_type": "display_data"
    },
    {
     "data": {
      "text/plain": [
       "<Figure size 432x288 with 0 Axes>"
      ]
     },
     "metadata": {},
     "output_type": "display_data"
    }
   ],
   "source": [
    "x_dependence = \"Lat\"\n",
    "y_dependence = \"Wind Speed\"\n",
    "position = (-30,30)\n",
    "\n",
    "plotRegression(Southern[x_dependence],Southern[y_dependence],x_dependence,y_dependence,position)\n",
    "plt.savefig(\"../output_data/Southern_lattitude_vs_windspeed.png\")"
   ]
  },
  {
   "cell_type": "code",
   "execution_count": null,
   "metadata": {},
   "outputs": [],
   "source": []
  }
 ],
 "metadata": {
  "anaconda-cloud": {},
  "kernel_info": {
   "name": "python3"
  },
  "kernelspec": {
   "display_name": "Python 3",
   "language": "python",
   "name": "python3"
  },
  "language_info": {
   "codemirror_mode": {
    "name": "ipython",
    "version": 3
   },
   "file_extension": ".py",
   "mimetype": "text/x-python",
   "name": "python",
   "nbconvert_exporter": "python",
   "pygments_lexer": "ipython3",
   "version": "3.7.6"
  },
  "latex_envs": {
   "LaTeX_envs_menu_present": true,
   "autoclose": false,
   "autocomplete": true,
   "bibliofile": "biblio.bib",
   "cite_by": "apalike",
   "current_citInitial": 1,
   "eqLabelWithNumbers": true,
   "eqNumInitial": 1,
   "hotkeys": {
    "equation": "Ctrl-E",
    "itemize": "Ctrl-I"
   },
   "labels_anchors": false,
   "latex_user_defs": false,
   "report_style_numbering": false,
   "user_envs_cfg": false
  },
  "nteract": {
   "version": "0.12.3"
  }
 },
 "nbformat": 4,
 "nbformat_minor": 2
}
